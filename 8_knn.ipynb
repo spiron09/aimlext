{
 "cells": [
  {
   "cell_type": "code",
   "execution_count": 26,
   "id": "1316554c-503e-4f24-8ef6-1e28116383af",
   "metadata": {},
   "outputs": [],
   "source": [
    "import pandas as pd\n",
    "from sklearn.datasets import load_iris\n",
    "from sklearn.model_selection import train_test_split\n",
    "from sklearn.neighbors import KNeighborsClassifier\n",
    "import sklearn.metrics as sm"
   ]
  },
  {
   "cell_type": "code",
   "execution_count": 27,
   "id": "b0f70e13-267c-4d82-9004-db5f790fd99b",
   "metadata": {},
   "outputs": [],
   "source": [
    "iris = load_iris()\n",
    "X = iris.data\n",
    "Y = iris.target\n",
    "X_train, X_test, Y_train, Y_test = train_test_split(X,Y,test_size=0.2,random_state=400)"
   ]
  },
  {
   "cell_type": "code",
   "execution_count": 28,
   "id": "256dc7b1-b2ca-4fb5-8088-c2d397953a95",
   "metadata": {},
   "outputs": [
    {
     "data": {
      "text/html": [
       "<style>#sk-container-id-5 {color: black;}#sk-container-id-5 pre{padding: 0;}#sk-container-id-5 div.sk-toggleable {background-color: white;}#sk-container-id-5 label.sk-toggleable__label {cursor: pointer;display: block;width: 100%;margin-bottom: 0;padding: 0.3em;box-sizing: border-box;text-align: center;}#sk-container-id-5 label.sk-toggleable__label-arrow:before {content: \"▸\";float: left;margin-right: 0.25em;color: #696969;}#sk-container-id-5 label.sk-toggleable__label-arrow:hover:before {color: black;}#sk-container-id-5 div.sk-estimator:hover label.sk-toggleable__label-arrow:before {color: black;}#sk-container-id-5 div.sk-toggleable__content {max-height: 0;max-width: 0;overflow: hidden;text-align: left;background-color: #f0f8ff;}#sk-container-id-5 div.sk-toggleable__content pre {margin: 0.2em;color: black;border-radius: 0.25em;background-color: #f0f8ff;}#sk-container-id-5 input.sk-toggleable__control:checked~div.sk-toggleable__content {max-height: 200px;max-width: 100%;overflow: auto;}#sk-container-id-5 input.sk-toggleable__control:checked~label.sk-toggleable__label-arrow:before {content: \"▾\";}#sk-container-id-5 div.sk-estimator input.sk-toggleable__control:checked~label.sk-toggleable__label {background-color: #d4ebff;}#sk-container-id-5 div.sk-label input.sk-toggleable__control:checked~label.sk-toggleable__label {background-color: #d4ebff;}#sk-container-id-5 input.sk-hidden--visually {border: 0;clip: rect(1px 1px 1px 1px);clip: rect(1px, 1px, 1px, 1px);height: 1px;margin: -1px;overflow: hidden;padding: 0;position: absolute;width: 1px;}#sk-container-id-5 div.sk-estimator {font-family: monospace;background-color: #f0f8ff;border: 1px dotted black;border-radius: 0.25em;box-sizing: border-box;margin-bottom: 0.5em;}#sk-container-id-5 div.sk-estimator:hover {background-color: #d4ebff;}#sk-container-id-5 div.sk-parallel-item::after {content: \"\";width: 100%;border-bottom: 1px solid gray;flex-grow: 1;}#sk-container-id-5 div.sk-label:hover label.sk-toggleable__label {background-color: #d4ebff;}#sk-container-id-5 div.sk-serial::before {content: \"\";position: absolute;border-left: 1px solid gray;box-sizing: border-box;top: 0;bottom: 0;left: 50%;z-index: 0;}#sk-container-id-5 div.sk-serial {display: flex;flex-direction: column;align-items: center;background-color: white;padding-right: 0.2em;padding-left: 0.2em;position: relative;}#sk-container-id-5 div.sk-item {position: relative;z-index: 1;}#sk-container-id-5 div.sk-parallel {display: flex;align-items: stretch;justify-content: center;background-color: white;position: relative;}#sk-container-id-5 div.sk-item::before, #sk-container-id-5 div.sk-parallel-item::before {content: \"\";position: absolute;border-left: 1px solid gray;box-sizing: border-box;top: 0;bottom: 0;left: 50%;z-index: -1;}#sk-container-id-5 div.sk-parallel-item {display: flex;flex-direction: column;z-index: 1;position: relative;background-color: white;}#sk-container-id-5 div.sk-parallel-item:first-child::after {align-self: flex-end;width: 50%;}#sk-container-id-5 div.sk-parallel-item:last-child::after {align-self: flex-start;width: 50%;}#sk-container-id-5 div.sk-parallel-item:only-child::after {width: 0;}#sk-container-id-5 div.sk-dashed-wrapped {border: 1px dashed gray;margin: 0 0.4em 0.5em 0.4em;box-sizing: border-box;padding-bottom: 0.4em;background-color: white;}#sk-container-id-5 div.sk-label label {font-family: monospace;font-weight: bold;display: inline-block;line-height: 1.2em;}#sk-container-id-5 div.sk-label-container {text-align: center;}#sk-container-id-5 div.sk-container {/* jupyter's `normalize.less` sets `[hidden] { display: none; }` but bootstrap.min.css set `[hidden] { display: none !important; }` so we also need the `!important` here to be able to override the default hidden behavior on the sphinx rendered scikit-learn.org. See: https://github.com/scikit-learn/scikit-learn/issues/21755 */display: inline-block !important;position: relative;}#sk-container-id-5 div.sk-text-repr-fallback {display: none;}</style><div id=\"sk-container-id-5\" class=\"sk-top-container\"><div class=\"sk-text-repr-fallback\"><pre>KNeighborsClassifier()</pre><b>In a Jupyter environment, please rerun this cell to show the HTML representation or trust the notebook. <br />On GitHub, the HTML representation is unable to render, please try loading this page with nbviewer.org.</b></div><div class=\"sk-container\" hidden><div class=\"sk-item\"><div class=\"sk-estimator sk-toggleable\"><input class=\"sk-toggleable__control sk-hidden--visually\" id=\"sk-estimator-id-5\" type=\"checkbox\" checked><label for=\"sk-estimator-id-5\" class=\"sk-toggleable__label sk-toggleable__label-arrow\">KNeighborsClassifier</label><div class=\"sk-toggleable__content\"><pre>KNeighborsClassifier()</pre></div></div></div></div></div>"
      ],
      "text/plain": [
       "KNeighborsClassifier()"
      ]
     },
     "execution_count": 28,
     "metadata": {},
     "output_type": "execute_result"
    }
   ],
   "source": [
    "knn = KNeighborsClassifier(n_neighbors=5)\n",
    "knn.fit(X_train, Y_train)"
   ]
  },
  {
   "cell_type": "code",
   "execution_count": 29,
   "id": "a74f6875-af55-409f-b9f9-d5740ccf8df8",
   "metadata": {},
   "outputs": [
    {
     "data": {
      "text/plain": [
       "array([1, 2, 0, 0, 2, 2, 2, 0, 2, 0, 1, 0, 1, 1, 1, 0, 1, 2, 1, 2, 0, 1,\n",
       "       2, 2, 0, 0, 0, 0, 1, 2])"
      ]
     },
     "execution_count": 29,
     "metadata": {},
     "output_type": "execute_result"
    }
   ],
   "source": [
    "y_pred = knn.predict(X_test)\n",
    "y_pred"
   ]
  },
  {
   "cell_type": "code",
   "execution_count": 38,
   "id": "0bccd9ee-fc30-468c-b232-adb4a8a8a6dd",
   "metadata": {},
   "outputs": [
    {
     "name": "stdout",
     "output_type": "stream",
     "text": [
      "Accuracy:1.0\n",
      "\n",
      "Sno                  Actual               Predicted            Correct             \n",
      "1                    versicolor           versicolor           Yes                 \n",
      "2                    virginica            virginica            Yes                 \n",
      "3                    setosa               setosa               Yes                 \n",
      "4                    setosa               setosa               Yes                 \n",
      "5                    virginica            virginica            Yes                 \n",
      "6                    virginica            virginica            Yes                 \n",
      "7                    virginica            virginica            Yes                 \n",
      "8                    setosa               setosa               Yes                 \n",
      "9                    virginica            virginica            Yes                 \n",
      "10                   setosa               setosa               Yes                 \n",
      "11                   versicolor           versicolor           Yes                 \n",
      "12                   setosa               setosa               Yes                 \n",
      "13                   versicolor           versicolor           Yes                 \n",
      "14                   versicolor           versicolor           Yes                 \n",
      "15                   versicolor           versicolor           Yes                 \n",
      "16                   setosa               setosa               Yes                 \n",
      "17                   versicolor           versicolor           Yes                 \n",
      "18                   virginica            virginica            Yes                 \n",
      "19                   versicolor           versicolor           Yes                 \n",
      "20                   virginica            virginica            Yes                 \n",
      "21                   setosa               setosa               Yes                 \n",
      "22                   versicolor           versicolor           Yes                 \n",
      "23                   virginica            virginica            Yes                 \n",
      "24                   virginica            virginica            Yes                 \n",
      "25                   setosa               setosa               Yes                 \n",
      "26                   setosa               setosa               Yes                 \n",
      "27                   setosa               setosa               Yes                 \n",
      "28                   setosa               setosa               Yes                 \n",
      "29                   versicolor           versicolor           Yes                 \n",
      "30                   virginica            virginica            Yes                 \n"
     ]
    }
   ],
   "source": [
    "y_pred_names = [iris.target_names[i] for i in y_pred]\n",
    "Y_test_names = [iris.target_names[i] for i in Y_test]\n",
    "\n",
    "print(f\"Accuracy:{sm.accuracy_score(y_pred,Y_test)}\\n\")\n",
    "\n",
    "header_format = \"{:<20} {:<20} {:<20} {:<20}\"\n",
    "data_format = \"{:<20} {:<20} {:<20} {:<20}\"\n",
    "\n",
    "# Print header\n",
    "print(header_format.format(\"Sno\", \"Actual\", \"Predicted\", \"Correct\"))\n",
    "\n",
    "for i in range(len(y_pred_names)):\n",
    "    sno = i+1\n",
    "    actual = Y_test_names[i]\n",
    "    predicted = y_pred_names[i]\n",
    "    correct = \"Yes\" if actual == predicted else \"No\"\n",
    "    # Print data rows\n",
    "    print(data_format.format(sno, actual, predicted, correct))"
   ]
  },
  {
   "cell_type": "code",
   "execution_count": null,
   "id": "6f758c26-984c-4229-95d3-435885a3ae71",
   "metadata": {},
   "outputs": [],
   "source": []
  }
 ],
 "metadata": {
  "kernelspec": {
   "display_name": "Python 3 (ipykernel)",
   "language": "python",
   "name": "python3"
  },
  "language_info": {
   "codemirror_mode": {
    "name": "ipython",
    "version": 3
   },
   "file_extension": ".py",
   "mimetype": "text/x-python",
   "name": "python",
   "nbconvert_exporter": "python",
   "pygments_lexer": "ipython3",
   "version": "3.12.1"
  }
 },
 "nbformat": 4,
 "nbformat_minor": 5
}
