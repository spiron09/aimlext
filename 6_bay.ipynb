{
 "cells": [
  {
   "cell_type": "code",
   "execution_count": 30,
   "id": "209858db-0b24-477b-b8d9-8c6ad25dc068",
   "metadata": {},
   "outputs": [],
   "source": [
    "import csv\n",
    "import pandas as pd\n",
    "import numpy as np\n",
    "\n",
    "df = pd.read_csv('6_diabetes.csv')\n",
    "df = df.astype(float)\n",
    "train = df.sample(frac=0.8,random_state=400)\n",
    "test = df.drop(train.index)"
   ]
  },
  {
   "cell_type": "code",
   "execution_count": 31,
   "id": "39fd4f63-76ef-4d84-906d-c30a334284b4",
   "metadata": {},
   "outputs": [
    {
     "name": "stdout",
     "output_type": "stream",
     "text": [
      "8\n"
     ]
    }
   ],
   "source": [
    "outcomegroup = train.groupby(df.columns[-1])\n",
    "n_attr = len(df.columns)-1\n",
    "print(n_attr)\n",
    "summaries = {}\n",
    "\n",
    "for classValue, instances in outcomegroup:\n",
    "    attr=[]\n",
    "    mean = list(instances.mean(axis=0).values)\n",
    "    stdev = list(instances.std(axis=0).values)\n",
    "    for i in range(n_attr):\n",
    "        attr.append([mean[i], stdev[i]])\n",
    "    summaries[classValue] = attr\n",
    "    "
   ]
  },
  {
   "cell_type": "code",
   "execution_count": 32,
   "id": "bba295cf-55bd-41e6-a024-2b3109f01803",
   "metadata": {},
   "outputs": [],
   "source": [
    "import math\n",
    "\n",
    "def calculateprob(x,mean,std):\n",
    "    exponent = np.exp(-math.pow((x-mean),2)/2*math.pow(std,2))\n",
    "    return (1/(math.sqrt((2*math.pi)*math.pow(std,2))))*exponent\n",
    "\n",
    "def calculateClassProb(summaries, x_vec):\n",
    "    probabilities = {}\n",
    "    for classvalue, classsummaries in summaries.items():\n",
    "        probabilities[classvalue] = 1\n",
    "        for i in range(len(classsummaries)):\n",
    "            x = x_vec[i]\n",
    "            mean,std = classsummaries[i]\n",
    "            prob = calculateprob(x,mean,std)\n",
    "            probabilities[classvalue] *= prob\n",
    "    return probabilities\n",
    "\n",
    "def Predict(summaries,x_vec):\n",
    "    prob = calculateClassProb(summaries,x_vec)\n",
    "    bestlabel, bestvalue = None, -1\n",
    "    for classvalue,probability in prob.items():\n",
    "        if bestlabel is None or probability > bestvalue:\n",
    "            bestlabel = classvalue\n",
    "            bestvalue = probability\n",
    "    return bestlabel\n",
    "    "
   ]
  },
  {
   "cell_type": "code",
   "execution_count": 33,
   "id": "6b24811a-1d13-4b38-9466-89bc8576a680",
   "metadata": {},
   "outputs": [
    {
     "name": "stdout",
     "output_type": "stream",
     "text": [
      "0.7012987012987013\n"
     ]
    }
   ],
   "source": [
    "predictions = []\n",
    "testset = test.values.tolist()\n",
    "for i in range(len(test)):\n",
    "    result = Predict(summaries,testset[i])\n",
    "    predictions.append(result)\n",
    "\n",
    "def getAccuracy(test,predictions):\n",
    "    correct = 0\n",
    "    for i in range(len(test)):\n",
    "        if test.iloc[i,-1] == predictions[i]:\n",
    "            correct+=1\n",
    "    return (correct/len(test))\n",
    "\n",
    "print(getAccuracy(test, predictions))"
   ]
  }
 ],
 "metadata": {
  "kernelspec": {
   "display_name": "Python 3 (ipykernel)",
   "language": "python",
   "name": "python3"
  },
  "language_info": {
   "codemirror_mode": {
    "name": "ipython",
    "version": 3
   },
   "file_extension": ".py",
   "mimetype": "text/x-python",
   "name": "python",
   "nbconvert_exporter": "python",
   "pygments_lexer": "ipython3",
   "version": "3.12.1"
  }
 },
 "nbformat": 4,
 "nbformat_minor": 5
}
