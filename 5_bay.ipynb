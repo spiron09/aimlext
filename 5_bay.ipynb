{
 "cells": [
  {
   "cell_type": "code",
   "execution_count": 15,
   "id": "b9b609da-3816-4901-8ed9-28aff6133e13",
   "metadata": {},
   "outputs": [
    {
     "name": "stdout",
     "output_type": "stream",
     "text": [
      "[[0.5        1.        ]\n",
      " [1.         0.66666667]\n",
      " [0.25       0.44444444]]\n",
      "[[0.89]\n",
      " [0.96]\n",
      " [0.83]]\n"
     ]
    }
   ],
   "source": [
    "import numpy as np\n",
    "X = np.array(([2,9], [4,6], [1,4]), dtype=float)\n",
    "Y = np.array(([89],[96],[83]), dtype=float)\n",
    "X=X/np.amax(X,axis=0)\n",
    "actual_output=Y/100\n",
    "\n",
    "print(X)\n",
    "print(actual_output)"
   ]
  },
  {
   "cell_type": "code",
   "execution_count": 16,
   "id": "2ba1377c-b967-494e-a6af-4cf3518c5d4c",
   "metadata": {},
   "outputs": [],
   "source": [
    "def sigmoid(x):\n",
    "    return 1/(1+np.exp(-x))\n",
    "    \n",
    "def sigmoid_der(x):\n",
    "    return x*(1-x)"
   ]
  },
  {
   "cell_type": "code",
   "execution_count": 28,
   "id": "9214c31b-e71b-49c1-b2bf-2df4bef94e8f",
   "metadata": {},
   "outputs": [],
   "source": [
    "epochs = 100\n",
    "learning_rate = 1.5\n",
    "input = 2\n",
    "hidden = 3\n",
    "output = 1\n",
    "\n",
    "wh = np.random.uniform(low=-0.05, high=0.05, size=(input,hidden))\n",
    "bh = np.random.uniform(low=-0.05, high=0.05, size=(1,hidden))\n",
    "\n",
    "wo = np.random.uniform(low=-0.05, high=0.05, size=(hidden,output))\n",
    "bo = np.random.uniform(low=-0.05, high=0.05, size=(1,output))\n",
    "\n",
    "for i in range(epochs):\n",
    "    \n",
    "    net_h = np.dot(X,wh) + bh\n",
    "    sigma_h = sigmoid(net_h)\n",
    "\n",
    "    net_o = np.dot(sigma_h,wo) + bo\n",
    "    sigma_o = sigmoid(net_o)\n",
    "\n",
    "    eo = actual_output - sigma_o\n",
    "    outgrad = sigmoid_der(sigma_o)\n",
    "    d_output = eo*outgrad\n",
    "    \n",
    "    eh = d_output.dot(wo.T)\n",
    "    hiddengrad = sigmoid_der(sigma_h)\n",
    "    d_hidden = eh*hiddengrad\n",
    "    \n",
    "    wh+=X.T.dot(d_hidden)*learning_rate\n",
    "    wo+= sigma_h.T.dot(d_output)*learning_rate\n",
    "    "
   ]
  },
  {
   "cell_type": "code",
   "execution_count": 29,
   "id": "ba057343-8f4d-4706-9e08-7635bf47e16d",
   "metadata": {},
   "outputs": [
    {
     "name": "stdout",
     "output_type": "stream",
     "text": [
      "[0.89745823] [0.89]\n",
      "[0.90369626] [0.96]\n",
      "[0.87864795] [0.83]\n",
      "[0.18641199]\n"
     ]
    }
   ],
   "source": [
    "sum_error = 0\n",
    "\n",
    "for j in range(len(actual_output)):\n",
    "    print(sigma_o[j], actual_output[j])\n",
    "    sum_error+=((sigma_o[j]-actual_output[j])**2)\n",
    "    \n",
    "sum_error = sum_error/len(actual_output)\n",
    "\n",
    "print(sum_error*100)"
   ]
  },
  {
   "cell_type": "code",
   "execution_count": 30,
   "id": "d527097e-04e3-4736-b829-8a052e363377",
   "metadata": {},
   "outputs": [
    {
     "name": "stdout",
     "output_type": "stream",
     "text": [
      "Input: \n",
      "[[0.5        1.        ]\n",
      " [1.         0.66666667]\n",
      " [0.25       0.44444444]]\n",
      "Actual Output: \n",
      "[[0.89]\n",
      " [0.96]\n",
      " [0.83]]\n",
      "Predicted Output: \n",
      " [[0.89745823]\n",
      " [0.90369626]\n",
      " [0.87864795]]\n"
     ]
    }
   ],
   "source": [
    "print(\"Input: \\n\" + str(X))\n",
    "print(\"Actual Output: \\n\" + str(actual_output))\n",
    "print(\"Predicted Output: \\n\" ,sigma_o)"
   ]
  },
  {
   "cell_type": "code",
   "execution_count": null,
   "id": "cbbb90af-91d0-4c7f-ade9-04ae0b0696c7",
   "metadata": {},
   "outputs": [],
   "source": []
  }
 ],
 "metadata": {
  "kernelspec": {
   "display_name": "Python 3 (ipykernel)",
   "language": "python",
   "name": "python3"
  },
  "language_info": {
   "codemirror_mode": {
    "name": "ipython",
    "version": 3
   },
   "file_extension": ".py",
   "mimetype": "text/x-python",
   "name": "python",
   "nbconvert_exporter": "python",
   "pygments_lexer": "ipython3",
   "version": "3.12.1"
  }
 },
 "nbformat": 4,
 "nbformat_minor": 5
}
